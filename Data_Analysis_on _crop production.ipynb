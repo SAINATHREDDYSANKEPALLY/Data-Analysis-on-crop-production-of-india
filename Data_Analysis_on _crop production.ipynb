{
 "cells": [
  {
   "cell_type": "code",
   "execution_count": 1,
   "id": "8ccbc229",
   "metadata": {},
   "outputs": [],
   "source": [
    "import numpy as np\n",
    "import pandas as pd\n",
    "import matplotlib.pyplot as plt\n",
    "import seaborn as sns\n",
    "import warnings\n",
    "warnings.filterwarnings('ignore')"
   ]
  },
  {
   "cell_type": "code",
   "execution_count": 2,
   "id": "004b6c2b",
   "metadata": {},
   "outputs": [],
   "source": [
    "df=pd.read_csv(r\"C:\\Users\\sanke\\Desktop\\java references\\state-wise-crop-production-India_original.csv\")"
   ]
  },
  {
   "cell_type": "code",
   "execution_count": 3,
   "id": "20940e7e",
   "metadata": {},
   "outputs": [
    {
     "data": {
      "text/html": [
       "<div>\n",
       "<style scoped>\n",
       "    .dataframe tbody tr th:only-of-type {\n",
       "        vertical-align: middle;\n",
       "    }\n",
       "\n",
       "    .dataframe tbody tr th {\n",
       "        vertical-align: top;\n",
       "    }\n",
       "\n",
       "    .dataframe thead th {\n",
       "        text-align: right;\n",
       "    }\n",
       "</style>\n",
       "<table border=\"1\" class=\"dataframe\">\n",
       "  <thead>\n",
       "    <tr style=\"text-align: right;\">\n",
       "      <th></th>\n",
       "      <th>State</th>\n",
       "      <th>Year</th>\n",
       "      <th>Crop</th>\n",
       "      <th>Area</th>\n",
       "      <th>Production</th>\n",
       "    </tr>\n",
       "  </thead>\n",
       "  <tbody>\n",
       "    <tr>\n",
       "      <th>0</th>\n",
       "      <td>Andaman and Nicobar Islands</td>\n",
       "      <td>2000</td>\n",
       "      <td>Arecanut</td>\n",
       "      <td>4354.0</td>\n",
       "      <td>7200.0</td>\n",
       "    </tr>\n",
       "    <tr>\n",
       "      <th>1</th>\n",
       "      <td>Andaman and Nicobar Islands</td>\n",
       "      <td>2000</td>\n",
       "      <td>Banana</td>\n",
       "      <td>1707.0</td>\n",
       "      <td>12714.0</td>\n",
       "    </tr>\n",
       "    <tr>\n",
       "      <th>2</th>\n",
       "      <td>Andaman and Nicobar Islands</td>\n",
       "      <td>2000</td>\n",
       "      <td>Cashewnut</td>\n",
       "      <td>800.0</td>\n",
       "      <td>219.0</td>\n",
       "    </tr>\n",
       "    <tr>\n",
       "      <th>3</th>\n",
       "      <td>Andaman and Nicobar Islands</td>\n",
       "      <td>2000</td>\n",
       "      <td>Coconut</td>\n",
       "      <td>25160.0</td>\n",
       "      <td>89000000.0</td>\n",
       "    </tr>\n",
       "    <tr>\n",
       "      <th>4</th>\n",
       "      <td>Andaman and Nicobar Islands</td>\n",
       "      <td>2000</td>\n",
       "      <td>Dry ginger</td>\n",
       "      <td>388.0</td>\n",
       "      <td>1220.0</td>\n",
       "    </tr>\n",
       "  </tbody>\n",
       "</table>\n",
       "</div>"
      ],
      "text/plain": [
       "                         State  Year        Crop     Area  Production\n",
       "0  Andaman and Nicobar Islands  2000    Arecanut   4354.0      7200.0\n",
       "1  Andaman and Nicobar Islands  2000      Banana   1707.0     12714.0\n",
       "2  Andaman and Nicobar Islands  2000   Cashewnut    800.0       219.0\n",
       "3  Andaman and Nicobar Islands  2000    Coconut   25160.0  89000000.0\n",
       "4  Andaman and Nicobar Islands  2000  Dry ginger    388.0      1220.0"
      ]
     },
     "execution_count": 3,
     "metadata": {},
     "output_type": "execute_result"
    }
   ],
   "source": [
    "df.head()\n",
    "# first 5 rows of data set"
   ]
  },
  {
   "cell_type": "code",
   "execution_count": 4,
   "id": "e31dde9b",
   "metadata": {},
   "outputs": [
    {
     "name": "stdout",
     "output_type": "stream",
     "text": [
      "<class 'pandas.core.frame.DataFrame'>\n",
      "RangeIndex: 10704 entries, 0 to 10703\n",
      "Data columns (total 5 columns):\n",
      " #   Column      Non-Null Count  Dtype  \n",
      "---  ------      --------------  -----  \n",
      " 0   State       10704 non-null  object \n",
      " 1   Year        10704 non-null  int64  \n",
      " 2   Crop        10704 non-null  object \n",
      " 3   Area        10704 non-null  float64\n",
      " 4   Production  10704 non-null  float64\n",
      "dtypes: float64(2), int64(1), object(2)\n",
      "memory usage: 418.2+ KB\n"
     ]
    }
   ],
   "source": [
    "df.info()"
   ]
  },
  {
   "cell_type": "code",
   "execution_count": 5,
   "id": "714531b0",
   "metadata": {},
   "outputs": [
    {
     "data": {
      "text/plain": [
       "(10704, 5)"
      ]
     },
     "execution_count": 5,
     "metadata": {},
     "output_type": "execute_result"
    }
   ],
   "source": [
    "df.shape\n",
    "# shape of the data set"
   ]
  },
  {
   "cell_type": "code",
   "execution_count": 6,
   "id": "aceb8bc7",
   "metadata": {},
   "outputs": [
    {
     "data": {
      "text/plain": [
       "State          object\n",
       "Year            int64\n",
       "Crop           object\n",
       "Area          float64\n",
       "Production    float64\n",
       "dtype: object"
      ]
     },
     "execution_count": 6,
     "metadata": {},
     "output_type": "execute_result"
    }
   ],
   "source": [
    "df.dtypes\n",
    "# data type of the column"
   ]
  },
  {
   "cell_type": "code",
   "execution_count": 7,
   "id": "f1760a64",
   "metadata": {},
   "outputs": [
    {
     "data": {
      "text/html": [
       "<div>\n",
       "<style scoped>\n",
       "    .dataframe tbody tr th:only-of-type {\n",
       "        vertical-align: middle;\n",
       "    }\n",
       "\n",
       "    .dataframe tbody tr th {\n",
       "        vertical-align: top;\n",
       "    }\n",
       "\n",
       "    .dataframe thead th {\n",
       "        text-align: right;\n",
       "    }\n",
       "</style>\n",
       "<table border=\"1\" class=\"dataframe\">\n",
       "  <thead>\n",
       "    <tr style=\"text-align: right;\">\n",
       "      <th></th>\n",
       "      <th>Year</th>\n",
       "      <th>Area</th>\n",
       "      <th>Production</th>\n",
       "    </tr>\n",
       "  </thead>\n",
       "  <tbody>\n",
       "    <tr>\n",
       "      <th>count</th>\n",
       "      <td>10704.000000</td>\n",
       "      <td>1.070400e+04</td>\n",
       "      <td>1.070400e+04</td>\n",
       "    </tr>\n",
       "    <tr>\n",
       "      <th>mean</th>\n",
       "      <td>2006.134342</td>\n",
       "      <td>2.126362e+05</td>\n",
       "      <td>1.115409e+07</td>\n",
       "    </tr>\n",
       "    <tr>\n",
       "      <th>std</th>\n",
       "      <td>3.973598</td>\n",
       "      <td>7.238971e+05</td>\n",
       "      <td>2.263971e+08</td>\n",
       "    </tr>\n",
       "    <tr>\n",
       "      <th>min</th>\n",
       "      <td>2000.000000</td>\n",
       "      <td>1.000000e+00</td>\n",
       "      <td>0.000000e+00</td>\n",
       "    </tr>\n",
       "    <tr>\n",
       "      <th>25%</th>\n",
       "      <td>2003.000000</td>\n",
       "      <td>1.506000e+03</td>\n",
       "      <td>1.500000e+03</td>\n",
       "    </tr>\n",
       "    <tr>\n",
       "      <th>50%</th>\n",
       "      <td>2006.000000</td>\n",
       "      <td>1.096650e+04</td>\n",
       "      <td>1.551650e+04</td>\n",
       "    </tr>\n",
       "    <tr>\n",
       "      <th>75%</th>\n",
       "      <td>2010.000000</td>\n",
       "      <td>9.252500e+04</td>\n",
       "      <td>1.424018e+05</td>\n",
       "    </tr>\n",
       "    <tr>\n",
       "      <th>max</th>\n",
       "      <td>2013.000000</td>\n",
       "      <td>1.237800e+07</td>\n",
       "      <td>6.326000e+09</td>\n",
       "    </tr>\n",
       "  </tbody>\n",
       "</table>\n",
       "</div>"
      ],
      "text/plain": [
       "               Year          Area    Production\n",
       "count  10704.000000  1.070400e+04  1.070400e+04\n",
       "mean    2006.134342  2.126362e+05  1.115409e+07\n",
       "std        3.973598  7.238971e+05  2.263971e+08\n",
       "min     2000.000000  1.000000e+00  0.000000e+00\n",
       "25%     2003.000000  1.506000e+03  1.500000e+03\n",
       "50%     2006.000000  1.096650e+04  1.551650e+04\n",
       "75%     2010.000000  9.252500e+04  1.424018e+05\n",
       "max     2013.000000  1.237800e+07  6.326000e+09"
      ]
     },
     "execution_count": 7,
     "metadata": {},
     "output_type": "execute_result"
    }
   ],
   "source": [
    "df.describe()\n",
    "#descriptive statics of all the features"
   ]
  },
  {
   "cell_type": "code",
   "execution_count": 8,
   "id": "a158b80a",
   "metadata": {},
   "outputs": [
    {
     "data": {
      "text/html": [
       "<div>\n",
       "<style scoped>\n",
       "    .dataframe tbody tr th:only-of-type {\n",
       "        vertical-align: middle;\n",
       "    }\n",
       "\n",
       "    .dataframe tbody tr th {\n",
       "        vertical-align: top;\n",
       "    }\n",
       "\n",
       "    .dataframe thead th {\n",
       "        text-align: right;\n",
       "    }\n",
       "</style>\n",
       "<table border=\"1\" class=\"dataframe\">\n",
       "  <thead>\n",
       "    <tr style=\"text-align: right;\">\n",
       "      <th></th>\n",
       "      <th>Year</th>\n",
       "      <th>Area</th>\n",
       "      <th>Production</th>\n",
       "    </tr>\n",
       "  </thead>\n",
       "  <tbody>\n",
       "    <tr>\n",
       "      <th>Year</th>\n",
       "      <td>1.000000</td>\n",
       "      <td>0.019558</td>\n",
       "      <td>0.010842</td>\n",
       "    </tr>\n",
       "    <tr>\n",
       "      <th>Area</th>\n",
       "      <td>0.019558</td>\n",
       "      <td>1.000000</td>\n",
       "      <td>0.038026</td>\n",
       "    </tr>\n",
       "    <tr>\n",
       "      <th>Production</th>\n",
       "      <td>0.010842</td>\n",
       "      <td>0.038026</td>\n",
       "      <td>1.000000</td>\n",
       "    </tr>\n",
       "  </tbody>\n",
       "</table>\n",
       "</div>"
      ],
      "text/plain": [
       "                Year      Area  Production\n",
       "Year        1.000000  0.019558    0.010842\n",
       "Area        0.019558  1.000000    0.038026\n",
       "Production  0.010842  0.038026    1.000000"
      ]
     },
     "execution_count": 8,
     "metadata": {},
     "output_type": "execute_result"
    }
   ],
   "source": [
    "df.corr()\n",
    "# correlation between the columns"
   ]
  },
  {
   "cell_type": "code",
   "execution_count": 9,
   "id": "1883c952",
   "metadata": {},
   "outputs": [
    {
     "data": {
      "text/plain": [
       "<AxesSubplot:>"
      ]
     },
     "execution_count": 9,
     "metadata": {},
     "output_type": "execute_result"
    },
    {
     "data": {
      "image/png": "[encoded data removed]",
      "text/plain": [
       "<Figure size 432x288 with 2 Axes>"
      ]
     },
     "metadata": {
      "needs_background": "light"
     },
     "output_type": "display_data"
    }
   ],
   "source": [
    "sns.heatmap(df.corr(), annot=True)"
   ]
  },
  {
   "cell_type": "code",
   "execution_count": 10,
   "id": "1c50ff29",
   "metadata": {},
   "outputs": [
    {
     "data": {
      "text/plain": [
       "Rice                   414\n",
       "Sugarcane              370\n",
       "Maize                  365\n",
       "Wheat                  345\n",
       "Sesamum                322\n",
       "                      ... \n",
       "Bean                     1\n",
       "Arcanut (Processed)      1\n",
       "Atcanut (Raw)            1\n",
       "Cashewnut Processed      1\n",
       "Kapas                    1\n",
       "Name: Crop, Length: 122, dtype: int64"
      ]
     },
     "execution_count": 10,
     "metadata": {},
     "output_type": "execute_result"
    }
   ],
   "source": [
    "df[\"Crop\"].value_counts()\n",
    "# checking frequency of each crop all over the world."
   ]
  },
  {
   "cell_type": "code",
   "execution_count": 11,
   "id": "bbd43a89",
   "metadata": {},
   "outputs": [
    {
     "data": {
      "text/plain": [
       "array(['Arecanut', 'Banana', 'Cashewnut', 'Coconut ', 'Dry ginger',\n",
       "       'Other Kharif pulses', 'other oilseeds', 'Rice', 'Sugarcane',\n",
       "       'Sweet potato', 'Tapioca', 'Black pepper', 'Dry chillies',\n",
       "       'Turmeric', 'Arhar/Tur', 'Groundnut', 'Maize', 'Moong(Green Gram)',\n",
       "       'Sunflower', 'Urad', 'Bajra', 'Castor seed', 'Coriander',\n",
       "       'Cotton(lint)', 'Gram', 'Horse-gram', 'Jowar', 'Korra', 'Linseed',\n",
       "       'Mesta', 'Niger seed', 'Onion', 'Other  Rabi pulses',\n",
       "       'other misc. pulses', 'Potato', 'Ragi', 'Rapeseed &Mustard',\n",
       "       'Safflower', 'Samai', 'Sesamum', 'Small millets', 'Tobacco',\n",
       "       'Varagu', 'Wheat', 'Beans & Mutter(Vegetable)', 'Bhindi',\n",
       "       'Bottle Gourd', 'Brinjal', 'Cabbage', 'Citrus Fruit', 'Cucumber',\n",
       "       'Grapes', 'Mango', 'Orange', 'other fibres', 'Other Fresh Fruits',\n",
       "       'Other Vegetables', 'Papaya', 'Peas  (vegetable)', 'Pome Fruit',\n",
       "       'Soyabean', 'Tomato', 'Garlic', 'Ginger', 'Cowpea(Lobia)', 'Lemon',\n",
       "       'Pome Granet', 'Sapota', 'Sannhamp', 'Oilseeds total',\n",
       "       'Pulses total', 'Jute', 'Masoor', 'Peas & beans (Pulses)',\n",
       "       'Pineapple', 'Blackgram', 'Paddy', 'Barley', 'Khesari',\n",
       "       'Guar seed', 'Moth', 'Other Cereals & Millets', 'Carrot', 'Redish',\n",
       "       'Turnip', 'Cardamom', 'Arcanut (Processed)', 'Atcanut (Raw)',\n",
       "       'Cashewnut Processed', 'Cashewnut Raw', 'Coffee', 'Rubber', 'Tea',\n",
       "       'Bitter Gourd', 'Drum Stick', 'Jack Fruit', 'Snak Guard',\n",
       "       'Pump Kin', 'Cauliflower', 'Other Citrus Fruit', 'Water Melon',\n",
       "       'Kapas', 'Bean', 'Colocosia', 'Jobster', 'Lentil', 'Perilla',\n",
       "       'Rajmash Kholar', 'Ricebean (nagadal)', 'Apple', 'Ash Gourd',\n",
       "       'Beet Root', 'Ber', 'Lab-Lab', 'Litchi', 'Peach', 'Pear', 'Plums',\n",
       "       'Ribed Guard', 'Yam', 'Other Dry Fruit', 'Jute & mesta'],\n",
       "      dtype=object)"
      ]
     },
     "execution_count": 11,
     "metadata": {},
     "output_type": "execute_result"
    }
   ],
   "source": [
    "df[\"Crop\"].unique()\n",
    "# checking all the crops which cultivated in india in 2000 to 2013"
   ]
  },
  {
   "cell_type": "code",
   "execution_count": 12,
   "id": "8b4d231e",
   "metadata": {},
   "outputs": [
    {
     "data": {
      "text/plain": [
       "122"
      ]
     },
     "execution_count": 12,
     "metadata": {},
     "output_type": "execute_result"
    }
   ],
   "source": [
    "df[\"Crop\"].unique().size\n",
    "#  checking number of different  crops which cultivated in india in 2000 to 2013"
   ]
  },
  {
   "cell_type": "code",
   "execution_count": 13,
   "id": "a2aef400",
   "metadata": {},
   "outputs": [],
   "source": [
    "df_year=df.groupby(\"Year\").mean()\n",
    "\n",
    "#grouping the data based on year and mean of Area and production"
   ]
  },
  {
   "cell_type": "code",
   "execution_count": 14,
   "id": "88bb31f2",
   "metadata": {},
   "outputs": [
    {
     "data": {
      "text/html": [
       "<div>\n",
       "<style scoped>\n",
       "    .dataframe tbody tr th:only-of-type {\n",
       "        vertical-align: middle;\n",
       "    }\n",
       "\n",
       "    .dataframe tbody tr th {\n",
       "        vertical-align: top;\n",
       "    }\n",
       "\n",
       "    .dataframe thead th {\n",
       "        text-align: right;\n",
       "    }\n",
       "</style>\n",
       "<table border=\"1\" class=\"dataframe\">\n",
       "  <thead>\n",
       "    <tr style=\"text-align: right;\">\n",
       "      <th></th>\n",
       "      <th>Area</th>\n",
       "      <th>Production</th>\n",
       "    </tr>\n",
       "    <tr>\n",
       "      <th>Year</th>\n",
       "      <th></th>\n",
       "      <th></th>\n",
       "    </tr>\n",
       "  </thead>\n",
       "  <tbody>\n",
       "    <tr>\n",
       "      <th>2000</th>\n",
       "      <td>210034.913596</td>\n",
       "      <td>9.465958e+06</td>\n",
       "    </tr>\n",
       "    <tr>\n",
       "      <th>2001</th>\n",
       "      <td>218068.080040</td>\n",
       "      <td>9.848998e+06</td>\n",
       "    </tr>\n",
       "    <tr>\n",
       "      <th>2002</th>\n",
       "      <td>161814.376626</td>\n",
       "      <td>7.894313e+06</td>\n",
       "    </tr>\n",
       "    <tr>\n",
       "      <th>2003</th>\n",
       "      <td>179071.902747</td>\n",
       "      <td>8.239306e+06</td>\n",
       "    </tr>\n",
       "    <tr>\n",
       "      <th>2004</th>\n",
       "      <td>217177.781022</td>\n",
       "      <td>1.059439e+07</td>\n",
       "    </tr>\n",
       "  </tbody>\n",
       "</table>\n",
       "</div>"
      ],
      "text/plain": [
       "               Area    Production\n",
       "Year                             \n",
       "2000  210034.913596  9.465958e+06\n",
       "2001  218068.080040  9.848998e+06\n",
       "2002  161814.376626  7.894313e+06\n",
       "2003  179071.902747  8.239306e+06\n",
       "2004  217177.781022  1.059439e+07"
      ]
     },
     "execution_count": 14,
     "metadata": {},
     "output_type": "execute_result"
    }
   ],
   "source": [
    "df_year.head()"
   ]
  },
  {
   "cell_type": "code",
   "execution_count": 15,
   "id": "8f3671b2",
   "metadata": {},
   "outputs": [
    {
     "data": {
      "text/plain": [
       "<BarContainer object of 14 artists>"
      ]
     },
     "execution_count": 15,
     "metadata": {},
     "output_type": "execute_result"
    },
    {
     "data": {
      "image/png": "[encoded data removed]",
      "text/plain": [
       "<Figure size 432x288 with 1 Axes>"
      ]
     },
     "metadata": {
      "needs_background": "light"
     },
     "output_type": "display_data"
    }
   ],
   "source": [
    "plt.bar(df_year.index,df_year[\"Area\"],color='g')\n",
    "\n",
    "# Visualisation the Area of cultivation in each year"
   ]
  },
  {
   "cell_type": "code",
   "execution_count": 16,
   "id": "9b2aaad1",
   "metadata": {},
   "outputs": [
    {
     "data": {
      "text/plain": [
       "<BarContainer object of 14 artists>"
      ]
     },
     "execution_count": 16,
     "metadata": {},
     "output_type": "execute_result"
    },
    {
     "data": {
      "image/png": "[encoded data removed]",
      "text/plain": [
       "<Figure size 432x288 with 1 Axes>"
      ]
     },
     "metadata": {
      "needs_background": "light"
     },
     "output_type": "display_data"
    }
   ],
   "source": [
    "plt.bar(df_year.index,df_year[\"Production\"])\n",
    "\n",
    "# visualisation of production of crops in each year."
   ]
  },
  {
   "cell_type": "code",
   "execution_count": 17,
   "id": "c87d494f",
   "metadata": {},
   "outputs": [],
   "source": [
    "df[\"year_bin\"]=pd.cut(x=df.Year,bins=[1999,2006,2013],labels=[\"bin_1\",\"bin_2\"])\n",
    "\n",
    "# binning the data based on the year to analyse the crop production before and after 2007 (bin1 and bin 2 respectively)"
   ]
  },
  {
   "cell_type": "code",
   "execution_count": 18,
   "id": "478bd281",
   "metadata": {},
   "outputs": [
    {
     "data": {
      "text/html": [
       "<div>\n",
       "<style scoped>\n",
       "    .dataframe tbody tr th:only-of-type {\n",
       "        vertical-align: middle;\n",
       "    }\n",
       "\n",
       "    .dataframe tbody tr th {\n",
       "        vertical-align: top;\n",
       "    }\n",
       "\n",
       "    .dataframe thead th {\n",
       "        text-align: right;\n",
       "    }\n",
       "</style>\n",
       "<table border=\"1\" class=\"dataframe\">\n",
       "  <thead>\n",
       "    <tr style=\"text-align: right;\">\n",
       "      <th></th>\n",
       "      <th>State</th>\n",
       "      <th>Year</th>\n",
       "      <th>Crop</th>\n",
       "      <th>Area</th>\n",
       "      <th>Production</th>\n",
       "      <th>year_bin</th>\n",
       "    </tr>\n",
       "  </thead>\n",
       "  <tbody>\n",
       "    <tr>\n",
       "      <th>0</th>\n",
       "      <td>Andaman and Nicobar Islands</td>\n",
       "      <td>2000</td>\n",
       "      <td>Arecanut</td>\n",
       "      <td>4354.0</td>\n",
       "      <td>7200.0</td>\n",
       "      <td>bin_1</td>\n",
       "    </tr>\n",
       "    <tr>\n",
       "      <th>1</th>\n",
       "      <td>Andaman and Nicobar Islands</td>\n",
       "      <td>2000</td>\n",
       "      <td>Banana</td>\n",
       "      <td>1707.0</td>\n",
       "      <td>12714.0</td>\n",
       "      <td>bin_1</td>\n",
       "    </tr>\n",
       "    <tr>\n",
       "      <th>2</th>\n",
       "      <td>Andaman and Nicobar Islands</td>\n",
       "      <td>2000</td>\n",
       "      <td>Cashewnut</td>\n",
       "      <td>800.0</td>\n",
       "      <td>219.0</td>\n",
       "      <td>bin_1</td>\n",
       "    </tr>\n",
       "    <tr>\n",
       "      <th>3</th>\n",
       "      <td>Andaman and Nicobar Islands</td>\n",
       "      <td>2000</td>\n",
       "      <td>Coconut</td>\n",
       "      <td>25160.0</td>\n",
       "      <td>89000000.0</td>\n",
       "      <td>bin_1</td>\n",
       "    </tr>\n",
       "    <tr>\n",
       "      <th>4</th>\n",
       "      <td>Andaman and Nicobar Islands</td>\n",
       "      <td>2000</td>\n",
       "      <td>Dry ginger</td>\n",
       "      <td>388.0</td>\n",
       "      <td>1220.0</td>\n",
       "      <td>bin_1</td>\n",
       "    </tr>\n",
       "  </tbody>\n",
       "</table>\n",
       "</div>"
      ],
      "text/plain": [
       "                         State  Year        Crop     Area  Production year_bin\n",
       "0  Andaman and Nicobar Islands  2000    Arecanut   4354.0      7200.0    bin_1\n",
       "1  Andaman and Nicobar Islands  2000      Banana   1707.0     12714.0    bin_1\n",
       "2  Andaman and Nicobar Islands  2000   Cashewnut    800.0       219.0    bin_1\n",
       "3  Andaman and Nicobar Islands  2000    Coconut   25160.0  89000000.0    bin_1\n",
       "4  Andaman and Nicobar Islands  2000  Dry ginger    388.0      1220.0    bin_1"
      ]
     },
     "execution_count": 18,
     "metadata": {},
     "output_type": "execute_result"
    }
   ],
   "source": [
    "df.head()"
   ]
  },
  {
   "cell_type": "code",
   "execution_count": 19,
   "id": "94bba2ab",
   "metadata": {},
   "outputs": [
    {
     "data": {
      "text/plain": [
       "200200.5340430663"
      ]
     },
     "execution_count": 19,
     "metadata": {},
     "output_type": "execute_result"
    }
   ],
   "source": [
    "df[df[\"year_bin\"]==\"bin_1\"].Area.mean()\n",
    "\n",
    "# Average area of cultivation of crops in india before 2007"
   ]
  },
  {
   "cell_type": "code",
   "execution_count": 20,
   "id": "6c06d5ea",
   "metadata": {},
   "outputs": [
    {
     "data": {
      "text/plain": [
       "227371.711673811"
      ]
     },
     "execution_count": 20,
     "metadata": {},
     "output_type": "execute_result"
    }
   ],
   "source": [
    "df[df[\"year_bin\"]==\"bin_2\"].Area.mean()\n",
    "\n",
    "# Average area of cultivation of crops in india after 2007"
   ]
  },
  {
   "cell_type": "code",
   "execution_count": 21,
   "id": "70d8bb10",
   "metadata": {},
   "outputs": [
    {
     "data": {
      "text/plain": [
       "Rice                   224\n",
       "Sugarcane              200\n",
       "Maize                  197\n",
       "Wheat                  184\n",
       "Rapeseed &Mustard      176\n",
       "                      ... \n",
       "Kapas                    1\n",
       "Arcanut (Processed)      1\n",
       "Atcanut (Raw)            1\n",
       "Cashewnut Processed      1\n",
       "Other Dry Fruit          1\n",
       "Name: Crop, Length: 109, dtype: int64"
      ]
     },
     "execution_count": 21,
     "metadata": {},
     "output_type": "execute_result"
    }
   ],
   "source": [
    "df[df[\"year_bin\"]==\"bin_1\"].Crop.value_counts()\n",
    "\n",
    "# frequency of  each crop in the country before 2007\n"
   ]
  },
  {
   "cell_type": "code",
   "execution_count": 22,
   "id": "a9407224",
   "metadata": {},
   "outputs": [
    {
     "data": {
      "text/plain": [
       "Rice                  190\n",
       "Sugarcane             170\n",
       "Maize                 168\n",
       "Wheat                 161\n",
       "Urad                  151\n",
       "                     ... \n",
       "Bean                    1\n",
       "Tea                     1\n",
       "Other Vegetables        1\n",
       "Other Fresh Fruits      1\n",
       "Ricebean (nagadal)      1\n",
       "Name: Crop, Length: 81, dtype: int64"
      ]
     },
     "execution_count": 22,
     "metadata": {},
     "output_type": "execute_result"
    }
   ],
   "source": [
    "df[df[\"year_bin\"]==\"bin_2\"].Crop.value_counts()\n",
    "# frequency of  each crop in the country after 2007"
   ]
  },
  {
   "cell_type": "code",
   "execution_count": 23,
   "id": "e50554fc",
   "metadata": {},
   "outputs": [
    {
     "data": {
      "text/plain": [
       "9551302.460485792"
      ]
     },
     "execution_count": 23,
     "metadata": {},
     "output_type": "execute_result"
    }
   ],
   "source": [
    "df[df[\"year_bin\"]==\"bin_1\"].Production.mean()\n",
    "\n",
    "#Mean of production before 2007"
   ]
  },
  {
   "cell_type": "code",
   "execution_count": 24,
   "id": "dc7a4412",
   "metadata": {},
   "outputs": [
    {
     "data": {
      "text/plain": [
       "13053298.78688712"
      ]
     },
     "execution_count": 24,
     "metadata": {},
     "output_type": "execute_result"
    }
   ],
   "source": [
    "df[df[\"year_bin\"]==\"bin_2\"].Production.mean()\n",
    "\n",
    "#Mean of production after 2007"
   ]
  },
  {
   "cell_type": "code",
   "execution_count": 25,
   "id": "67dde90f",
   "metadata": {},
   "outputs": [
    {
     "data": {
      "text/html": [
       "<div>\n",
       "<style scoped>\n",
       "    .dataframe tbody tr th:only-of-type {\n",
       "        vertical-align: middle;\n",
       "    }\n",
       "\n",
       "    .dataframe tbody tr th {\n",
       "        vertical-align: top;\n",
       "    }\n",
       "\n",
       "    .dataframe thead th {\n",
       "        text-align: right;\n",
       "    }\n",
       "</style>\n",
       "<table border=\"1\" class=\"dataframe\">\n",
       "  <thead>\n",
       "    <tr style=\"text-align: right;\">\n",
       "      <th></th>\n",
       "      <th>Area</th>\n",
       "      <th>Production</th>\n",
       "    </tr>\n",
       "    <tr>\n",
       "      <th>Crop</th>\n",
       "      <th></th>\n",
       "      <th></th>\n",
       "    </tr>\n",
       "  </thead>\n",
       "  <tbody>\n",
       "    <tr>\n",
       "      <th>Rice</th>\n",
       "      <td>1.336448e+06</td>\n",
       "      <td>2.669089e+06</td>\n",
       "    </tr>\n",
       "    <tr>\n",
       "      <th>Wheat</th>\n",
       "      <td>1.004634e+06</td>\n",
       "      <td>2.689370e+06</td>\n",
       "    </tr>\n",
       "    <tr>\n",
       "      <th>Guar seed</th>\n",
       "      <td>7.834127e+05</td>\n",
       "      <td>1.731865e+05</td>\n",
       "    </tr>\n",
       "    <tr>\n",
       "      <th>Bajra</th>\n",
       "      <td>5.102169e+05</td>\n",
       "      <td>4.265433e+05</td>\n",
       "    </tr>\n",
       "    <tr>\n",
       "      <th>Jowar</th>\n",
       "      <td>4.772946e+05</td>\n",
       "      <td>3.712271e+05</td>\n",
       "    </tr>\n",
       "    <tr>\n",
       "      <th>...</th>\n",
       "      <td>...</td>\n",
       "      <td>...</td>\n",
       "    </tr>\n",
       "    <tr>\n",
       "      <th>Peas  (vegetable)</th>\n",
       "      <td>5.600000e+01</td>\n",
       "      <td>0.000000e+00</td>\n",
       "    </tr>\n",
       "    <tr>\n",
       "      <th>Peach</th>\n",
       "      <td>2.100000e+01</td>\n",
       "      <td>0.000000e+00</td>\n",
       "    </tr>\n",
       "    <tr>\n",
       "      <th>Litchi</th>\n",
       "      <td>1.250000e+01</td>\n",
       "      <td>0.000000e+00</td>\n",
       "    </tr>\n",
       "    <tr>\n",
       "      <th>Other Dry Fruit</th>\n",
       "      <td>7.000000e+00</td>\n",
       "      <td>0.000000e+00</td>\n",
       "    </tr>\n",
       "    <tr>\n",
       "      <th>Apple</th>\n",
       "      <td>4.500000e+00</td>\n",
       "      <td>0.000000e+00</td>\n",
       "    </tr>\n",
       "  </tbody>\n",
       "</table>\n",
       "<p>109 rows × 2 columns</p>\n",
       "</div>"
      ],
      "text/plain": [
       "                           Area    Production\n",
       "Crop                                         \n",
       "Rice               1.336448e+06  2.669089e+06\n",
       "Wheat              1.004634e+06  2.689370e+06\n",
       "Guar seed          7.834127e+05  1.731865e+05\n",
       "Bajra              5.102169e+05  4.265433e+05\n",
       "Jowar              4.772946e+05  3.712271e+05\n",
       "...                         ...           ...\n",
       "Peas  (vegetable)  5.600000e+01  0.000000e+00\n",
       "Peach              2.100000e+01  0.000000e+00\n",
       "Litchi             1.250000e+01  0.000000e+00\n",
       "Other Dry Fruit    7.000000e+00  0.000000e+00\n",
       "Apple              4.500000e+00  0.000000e+00\n",
       "\n",
       "[109 rows x 2 columns]"
      ]
     },
     "execution_count": 25,
     "metadata": {},
     "output_type": "execute_result"
    }
   ],
   "source": [
    "df[df.year_bin==\"bin_1\"].groupby(\"Crop\").mean().drop(\"Year\",axis=1).sort_values(by=\"Area\",ascending=False)"
   ]
  },
  {
   "cell_type": "code",
   "execution_count": 26,
   "id": "ea24dc3c",
   "metadata": {},
   "outputs": [
    {
     "data": {
      "text/html": [
       "<div>\n",
       "<style scoped>\n",
       "    .dataframe tbody tr th:only-of-type {\n",
       "        vertical-align: middle;\n",
       "    }\n",
       "\n",
       "    .dataframe tbody tr th {\n",
       "        vertical-align: top;\n",
       "    }\n",
       "\n",
       "    .dataframe thead th {\n",
       "        text-align: right;\n",
       "    }\n",
       "</style>\n",
       "<table border=\"1\" class=\"dataframe\">\n",
       "  <thead>\n",
       "    <tr style=\"text-align: right;\">\n",
       "      <th></th>\n",
       "      <th>Area</th>\n",
       "      <th>Production</th>\n",
       "    </tr>\n",
       "    <tr>\n",
       "      <th>Crop</th>\n",
       "      <th></th>\n",
       "      <th></th>\n",
       "    </tr>\n",
       "  </thead>\n",
       "  <tbody>\n",
       "    <tr>\n",
       "      <th>Rice</th>\n",
       "      <td>1.569675e+06</td>\n",
       "      <td>3.553451e+06</td>\n",
       "    </tr>\n",
       "    <tr>\n",
       "      <th>Paddy</th>\n",
       "      <td>1.431099e+06</td>\n",
       "      <td>2.785651e+06</td>\n",
       "    </tr>\n",
       "    <tr>\n",
       "      <th>Wheat</th>\n",
       "      <td>1.175566e+06</td>\n",
       "      <td>3.648029e+06</td>\n",
       "    </tr>\n",
       "    <tr>\n",
       "      <th>Soyabean</th>\n",
       "      <td>6.883419e+05</td>\n",
       "      <td>7.688301e+05</td>\n",
       "    </tr>\n",
       "    <tr>\n",
       "      <th>Guar seed</th>\n",
       "      <td>5.111161e+05</td>\n",
       "      <td>1.989506e+05</td>\n",
       "    </tr>\n",
       "    <tr>\n",
       "      <th>...</th>\n",
       "      <td>...</td>\n",
       "      <td>...</td>\n",
       "    </tr>\n",
       "    <tr>\n",
       "      <th>Sannhamp</th>\n",
       "      <td>1.474339e+03</td>\n",
       "      <td>1.904860e+03</td>\n",
       "    </tr>\n",
       "    <tr>\n",
       "      <th>Pump Kin</th>\n",
       "      <td>1.228500e+03</td>\n",
       "      <td>0.000000e+00</td>\n",
       "    </tr>\n",
       "    <tr>\n",
       "      <th>Jobster</th>\n",
       "      <td>1.170000e+03</td>\n",
       "      <td>1.180000e+03</td>\n",
       "    </tr>\n",
       "    <tr>\n",
       "      <th>Tea</th>\n",
       "      <td>1.000000e+03</td>\n",
       "      <td>3.450000e+03</td>\n",
       "    </tr>\n",
       "    <tr>\n",
       "      <th>Grapes</th>\n",
       "      <td>2.730000e+02</td>\n",
       "      <td>7.179000e+03</td>\n",
       "    </tr>\n",
       "  </tbody>\n",
       "</table>\n",
       "<p>81 rows × 2 columns</p>\n",
       "</div>"
      ],
      "text/plain": [
       "                   Area    Production\n",
       "Crop                                 \n",
       "Rice       1.569675e+06  3.553451e+06\n",
       "Paddy      1.431099e+06  2.785651e+06\n",
       "Wheat      1.175566e+06  3.648029e+06\n",
       "Soyabean   6.883419e+05  7.688301e+05\n",
       "Guar seed  5.111161e+05  1.989506e+05\n",
       "...                 ...           ...\n",
       "Sannhamp   1.474339e+03  1.904860e+03\n",
       "Pump Kin   1.228500e+03  0.000000e+00\n",
       "Jobster    1.170000e+03  1.180000e+03\n",
       "Tea        1.000000e+03  3.450000e+03\n",
       "Grapes     2.730000e+02  7.179000e+03\n",
       "\n",
       "[81 rows x 2 columns]"
      ]
     },
     "execution_count": 26,
     "metadata": {},
     "output_type": "execute_result"
    }
   ],
   "source": [
    "df[df.year_bin==\"bin_2\"].groupby(\"Crop\").mean().drop(\"Year\",axis=1).sort_values(by=\"Area\",ascending=False)"
   ]
  },
  {
   "cell_type": "code",
   "execution_count": 27,
   "id": "3e08b890",
   "metadata": {},
   "outputs": [
    {
     "data": {
      "text/html": [
       "<div>\n",
       "<style scoped>\n",
       "    .dataframe tbody tr th:only-of-type {\n",
       "        vertical-align: middle;\n",
       "    }\n",
       "\n",
       "    .dataframe tbody tr th {\n",
       "        vertical-align: top;\n",
       "    }\n",
       "\n",
       "    .dataframe thead th {\n",
       "        text-align: right;\n",
       "    }\n",
       "</style>\n",
       "<table border=\"1\" class=\"dataframe\">\n",
       "  <thead>\n",
       "    <tr style=\"text-align: right;\">\n",
       "      <th></th>\n",
       "      <th>Area</th>\n",
       "      <th>Production</th>\n",
       "    </tr>\n",
       "    <tr>\n",
       "      <th>Crop</th>\n",
       "      <th></th>\n",
       "      <th></th>\n",
       "    </tr>\n",
       "  </thead>\n",
       "  <tbody>\n",
       "    <tr>\n",
       "      <th>Coconut</th>\n",
       "      <td>1.742703e+05</td>\n",
       "      <td>7.460589e+08</td>\n",
       "    </tr>\n",
       "    <tr>\n",
       "      <th>Sugarcane</th>\n",
       "      <td>1.438481e+05</td>\n",
       "      <td>9.519614e+06</td>\n",
       "    </tr>\n",
       "    <tr>\n",
       "      <th>Wheat</th>\n",
       "      <td>1.004634e+06</td>\n",
       "      <td>2.689370e+06</td>\n",
       "    </tr>\n",
       "    <tr>\n",
       "      <th>Rice</th>\n",
       "      <td>1.336448e+06</td>\n",
       "      <td>2.669089e+06</td>\n",
       "    </tr>\n",
       "    <tr>\n",
       "      <th>Jute</th>\n",
       "      <td>1.197511e+05</td>\n",
       "      <td>1.461420e+06</td>\n",
       "    </tr>\n",
       "    <tr>\n",
       "      <th>...</th>\n",
       "      <td>...</td>\n",
       "      <td>...</td>\n",
       "    </tr>\n",
       "    <tr>\n",
       "      <th>Other Dry Fruit</th>\n",
       "      <td>7.000000e+00</td>\n",
       "      <td>0.000000e+00</td>\n",
       "    </tr>\n",
       "    <tr>\n",
       "      <th>Pome Granet</th>\n",
       "      <td>5.825000e+02</td>\n",
       "      <td>0.000000e+00</td>\n",
       "    </tr>\n",
       "    <tr>\n",
       "      <th>Peach</th>\n",
       "      <td>2.100000e+01</td>\n",
       "      <td>0.000000e+00</td>\n",
       "    </tr>\n",
       "    <tr>\n",
       "      <th>Plums</th>\n",
       "      <td>4.045000e+02</td>\n",
       "      <td>0.000000e+00</td>\n",
       "    </tr>\n",
       "    <tr>\n",
       "      <th>Apple</th>\n",
       "      <td>4.500000e+00</td>\n",
       "      <td>0.000000e+00</td>\n",
       "    </tr>\n",
       "  </tbody>\n",
       "</table>\n",
       "<p>109 rows × 2 columns</p>\n",
       "</div>"
      ],
      "text/plain": [
       "                         Area    Production\n",
       "Crop                                       \n",
       "Coconut          1.742703e+05  7.460589e+08\n",
       "Sugarcane        1.438481e+05  9.519614e+06\n",
       "Wheat            1.004634e+06  2.689370e+06\n",
       "Rice             1.336448e+06  2.669089e+06\n",
       "Jute             1.197511e+05  1.461420e+06\n",
       "...                       ...           ...\n",
       "Other Dry Fruit  7.000000e+00  0.000000e+00\n",
       "Pome Granet      5.825000e+02  0.000000e+00\n",
       "Peach            2.100000e+01  0.000000e+00\n",
       "Plums            4.045000e+02  0.000000e+00\n",
       "Apple            4.500000e+00  0.000000e+00\n",
       "\n",
       "[109 rows x 2 columns]"
      ]
     },
     "execution_count": 27,
     "metadata": {},
     "output_type": "execute_result"
    }
   ],
   "source": [
    "df[df.year_bin==\"bin_1\"].groupby(\"Crop\").mean().drop(\"Year\",axis=1).sort_values(by=\"Production\",ascending=False)"
   ]
  },
  {
   "cell_type": "code",
   "execution_count": 28,
   "id": "da2d8c1e",
   "metadata": {},
   "outputs": [
    {
     "data": {
      "text/html": [
       "<div>\n",
       "<style scoped>\n",
       "    .dataframe tbody tr th:only-of-type {\n",
       "        vertical-align: middle;\n",
       "    }\n",
       "\n",
       "    .dataframe tbody tr th {\n",
       "        vertical-align: top;\n",
       "    }\n",
       "\n",
       "    .dataframe thead th {\n",
       "        text-align: right;\n",
       "    }\n",
       "</style>\n",
       "<table border=\"1\" class=\"dataframe\">\n",
       "  <thead>\n",
       "    <tr style=\"text-align: right;\">\n",
       "      <th></th>\n",
       "      <th>Area</th>\n",
       "      <th>Production</th>\n",
       "    </tr>\n",
       "    <tr>\n",
       "      <th>Crop</th>\n",
       "      <th></th>\n",
       "      <th></th>\n",
       "    </tr>\n",
       "  </thead>\n",
       "  <tbody>\n",
       "    <tr>\n",
       "      <th>Coconut</th>\n",
       "      <td>2.238100e+05</td>\n",
       "      <td>1.162465e+09</td>\n",
       "    </tr>\n",
       "    <tr>\n",
       "      <th>Sugarcane</th>\n",
       "      <td>1.892423e+05</td>\n",
       "      <td>1.322031e+07</td>\n",
       "    </tr>\n",
       "    <tr>\n",
       "      <th>Wheat</th>\n",
       "      <td>1.175566e+06</td>\n",
       "      <td>3.648029e+06</td>\n",
       "    </tr>\n",
       "    <tr>\n",
       "      <th>Rice</th>\n",
       "      <td>1.569675e+06</td>\n",
       "      <td>3.553451e+06</td>\n",
       "    </tr>\n",
       "    <tr>\n",
       "      <th>Paddy</th>\n",
       "      <td>1.431099e+06</td>\n",
       "      <td>2.785651e+06</td>\n",
       "    </tr>\n",
       "    <tr>\n",
       "      <th>...</th>\n",
       "      <td>...</td>\n",
       "      <td>...</td>\n",
       "    </tr>\n",
       "    <tr>\n",
       "      <th>Lentil</th>\n",
       "      <td>2.070000e+03</td>\n",
       "      <td>1.680000e+03</td>\n",
       "    </tr>\n",
       "    <tr>\n",
       "      <th>Perilla</th>\n",
       "      <td>2.350000e+03</td>\n",
       "      <td>1.410000e+03</td>\n",
       "    </tr>\n",
       "    <tr>\n",
       "      <th>Jobster</th>\n",
       "      <td>1.170000e+03</td>\n",
       "      <td>1.180000e+03</td>\n",
       "    </tr>\n",
       "    <tr>\n",
       "      <th>Jack Fruit</th>\n",
       "      <td>8.970200e+04</td>\n",
       "      <td>0.000000e+00</td>\n",
       "    </tr>\n",
       "    <tr>\n",
       "      <th>Pump Kin</th>\n",
       "      <td>1.228500e+03</td>\n",
       "      <td>0.000000e+00</td>\n",
       "    </tr>\n",
       "  </tbody>\n",
       "</table>\n",
       "<p>81 rows × 2 columns</p>\n",
       "</div>"
      ],
      "text/plain": [
       "                    Area    Production\n",
       "Crop                                  \n",
       "Coconut     2.238100e+05  1.162465e+09\n",
       "Sugarcane   1.892423e+05  1.322031e+07\n",
       "Wheat       1.175566e+06  3.648029e+06\n",
       "Rice        1.569675e+06  3.553451e+06\n",
       "Paddy       1.431099e+06  2.785651e+06\n",
       "...                  ...           ...\n",
       "Lentil      2.070000e+03  1.680000e+03\n",
       "Perilla     2.350000e+03  1.410000e+03\n",
       "Jobster     1.170000e+03  1.180000e+03\n",
       "Jack Fruit  8.970200e+04  0.000000e+00\n",
       "Pump Kin    1.228500e+03  0.000000e+00\n",
       "\n",
       "[81 rows x 2 columns]"
      ]
     },
     "execution_count": 28,
     "metadata": {},
     "output_type": "execute_result"
    }
   ],
   "source": [
    "df[df.year_bin==\"bin_2\"].groupby(\"Crop\").mean().drop(\"Year\",axis=1).sort_values(by=\"Production\",ascending=False)"
   ]
  },
  {
   "cell_type": "markdown",
   "id": "6cde1cc1",
   "metadata": {},
   "source": [
    "# VISUALISATIONS"
   ]
  },
  {
   "cell_type": "code",
   "execution_count": 29,
   "id": "2afe9844",
   "metadata": {},
   "outputs": [
    {
     "data": {
      "text/plain": [
       "<AxesSubplot:xlabel='Area', ylabel='Density'>"
      ]
     },
     "execution_count": 29,
     "metadata": {},
     "output_type": "execute_result"
    },
    {
     "data": {
      "image/png": "[encoded data removed]",
      "text/plain": [
       "<Figure size 432x288 with 1 Axes>"
      ]
     },
     "metadata": {
      "needs_background": "light"
     },
     "output_type": "display_data"
    }
   ],
   "source": [
    "sns.distplot(df.Area)"
   ]
  },
  {
   "cell_type": "code",
   "execution_count": 30,
   "id": "d6fba3c0",
   "metadata": {},
   "outputs": [
    {
     "data": {
      "text/plain": [
       "<AxesSubplot:xlabel='Production', ylabel='Density'>"
      ]
     },
     "execution_count": 30,
     "metadata": {},
     "output_type": "execute_result"
    },
    {
     "data": {
      "image/png": "[encoded data removed]",
      "text/plain": [
       "<Figure size 432x288 with 1 Axes>"
      ]
     },
     "metadata": {
      "needs_background": "light"
     },
     "output_type": "display_data"
    }
   ],
   "source": [
    "sns.distplot(df.Production)"
   ]
  },
  {
   "cell_type": "code",
   "execution_count": 31,
   "id": "c3c1b64f",
   "metadata": {},
   "outputs": [
    {
     "data": {
      "image/png": "[encoded data removed]",
      "text/plain": [
       "<Figure size 432x288 with 1 Axes>"
      ]
     },
     "metadata": {
      "needs_background": "light"
     },
     "output_type": "display_data"
    }
   ],
   "source": [
    "sns.violinplot(\"year_bin\", \"Area\", data=df,\n",
    "               palette=[\"green\", \"red\"]);"
   ]
  },
  {
   "cell_type": "code",
   "execution_count": 32,
   "id": "23e16fd7",
   "metadata": {},
   "outputs": [
    {
     "data": {
      "image/png": "[encoded data removed]",
      "text/plain": [
       "<Figure size 432x288 with 1 Axes>"
      ]
     },
     "metadata": {
      "needs_background": "light"
     },
     "output_type": "display_data"
    }
   ],
   "source": [
    "sns.violinplot(\"year_bin\", \"Production\", data=df,\n",
    "               palette=[\"green\", \"red\"]);"
   ]
  },
  {
   "cell_type": "code",
   "execution_count": 33,
   "id": "f6f139d7",
   "metadata": {},
   "outputs": [
    {
     "data": {
      "image/png": "[encoded data removed]",
      "text/plain": [
       "<Figure size 602.875x540 with 12 Axes>"
      ]
     },
     "metadata": {
      "needs_background": "light"
     },
     "output_type": "display_data"
    }
   ],
   "source": [
    "sns.pairplot(df, hue='year_bin', size=2.5);"
   ]
  },
  {
   "cell_type": "code",
   "execution_count": null,
   "id": "34e99abd",
   "metadata": {},
   "outputs": [],
   "source": []
  },
  {
   "cell_type": "markdown",
   "id": "26d14e78",
   "metadata": {},
   "source": [
    "# Comparison of AP stats with National"
   ]
  },
  {
   "cell_type": "code",
   "execution_count": 34,
   "id": "ba70550c",
   "metadata": {},
   "outputs": [
    {
     "data": {
      "text/html": [
       "<div>\n",
       "<style scoped>\n",
       "    .dataframe tbody tr th:only-of-type {\n",
       "        vertical-align: middle;\n",
       "    }\n",
       "\n",
       "    .dataframe tbody tr th {\n",
       "        vertical-align: top;\n",
       "    }\n",
       "\n",
       "    .dataframe thead th {\n",
       "        text-align: right;\n",
       "    }\n",
       "</style>\n",
       "<table border=\"1\" class=\"dataframe\">\n",
       "  <thead>\n",
       "    <tr style=\"text-align: right;\">\n",
       "      <th></th>\n",
       "      <th>State</th>\n",
       "      <th>Year</th>\n",
       "      <th>Crop</th>\n",
       "      <th>Area</th>\n",
       "      <th>Production</th>\n",
       "      <th>year_bin</th>\n",
       "    </tr>\n",
       "  </thead>\n",
       "  <tbody>\n",
       "    <tr>\n",
       "      <th>93</th>\n",
       "      <td>Andhra Pradesh</td>\n",
       "      <td>2000</td>\n",
       "      <td>Arecanut</td>\n",
       "      <td>262.0</td>\n",
       "      <td>724.0</td>\n",
       "      <td>bin_1</td>\n",
       "    </tr>\n",
       "    <tr>\n",
       "      <th>94</th>\n",
       "      <td>Andhra Pradesh</td>\n",
       "      <td>2000</td>\n",
       "      <td>Arhar/Tur</td>\n",
       "      <td>254599.0</td>\n",
       "      <td>126443.0</td>\n",
       "      <td>bin_1</td>\n",
       "    </tr>\n",
       "    <tr>\n",
       "      <th>95</th>\n",
       "      <td>Andhra Pradesh</td>\n",
       "      <td>2000</td>\n",
       "      <td>Bajra</td>\n",
       "      <td>98323.0</td>\n",
       "      <td>121260.0</td>\n",
       "      <td>bin_1</td>\n",
       "    </tr>\n",
       "    <tr>\n",
       "      <th>96</th>\n",
       "      <td>Andhra Pradesh</td>\n",
       "      <td>2000</td>\n",
       "      <td>Banana</td>\n",
       "      <td>46908.0</td>\n",
       "      <td>780053.0</td>\n",
       "      <td>bin_1</td>\n",
       "    </tr>\n",
       "    <tr>\n",
       "      <th>97</th>\n",
       "      <td>Andhra Pradesh</td>\n",
       "      <td>2000</td>\n",
       "      <td>Cashewnut</td>\n",
       "      <td>135225.0</td>\n",
       "      <td>29443.0</td>\n",
       "      <td>bin_1</td>\n",
       "    </tr>\n",
       "    <tr>\n",
       "      <th>...</th>\n",
       "      <td>...</td>\n",
       "      <td>...</td>\n",
       "      <td>...</td>\n",
       "      <td>...</td>\n",
       "      <td>...</td>\n",
       "      <td>...</td>\n",
       "    </tr>\n",
       "    <tr>\n",
       "      <th>684</th>\n",
       "      <td>Andhra Pradesh</td>\n",
       "      <td>2013</td>\n",
       "      <td>Tobacco</td>\n",
       "      <td>143033.0</td>\n",
       "      <td>275988.0</td>\n",
       "      <td>bin_2</td>\n",
       "    </tr>\n",
       "    <tr>\n",
       "      <th>685</th>\n",
       "      <td>Andhra Pradesh</td>\n",
       "      <td>2013</td>\n",
       "      <td>Tomato</td>\n",
       "      <td>37441.0</td>\n",
       "      <td>889385.0</td>\n",
       "      <td>bin_2</td>\n",
       "    </tr>\n",
       "    <tr>\n",
       "      <th>686</th>\n",
       "      <td>Andhra Pradesh</td>\n",
       "      <td>2013</td>\n",
       "      <td>Turmeric</td>\n",
       "      <td>17865.0</td>\n",
       "      <td>152228.0</td>\n",
       "      <td>bin_2</td>\n",
       "    </tr>\n",
       "    <tr>\n",
       "      <th>687</th>\n",
       "      <td>Andhra Pradesh</td>\n",
       "      <td>2013</td>\n",
       "      <td>Urad</td>\n",
       "      <td>264773.0</td>\n",
       "      <td>206704.0</td>\n",
       "      <td>bin_2</td>\n",
       "    </tr>\n",
       "    <tr>\n",
       "      <th>688</th>\n",
       "      <td>Andhra Pradesh</td>\n",
       "      <td>2013</td>\n",
       "      <td>Wheat</td>\n",
       "      <td>696.0</td>\n",
       "      <td>498.0</td>\n",
       "      <td>bin_2</td>\n",
       "    </tr>\n",
       "  </tbody>\n",
       "</table>\n",
       "<p>596 rows × 6 columns</p>\n",
       "</div>"
      ],
      "text/plain": [
       "              State  Year       Crop      Area  Production year_bin\n",
       "93   Andhra Pradesh  2000   Arecanut     262.0       724.0    bin_1\n",
       "94   Andhra Pradesh  2000  Arhar/Tur  254599.0    126443.0    bin_1\n",
       "95   Andhra Pradesh  2000      Bajra   98323.0    121260.0    bin_1\n",
       "96   Andhra Pradesh  2000     Banana   46908.0    780053.0    bin_1\n",
       "97   Andhra Pradesh  2000  Cashewnut  135225.0     29443.0    bin_1\n",
       "..              ...   ...        ...       ...         ...      ...\n",
       "684  Andhra Pradesh  2013    Tobacco  143033.0    275988.0    bin_2\n",
       "685  Andhra Pradesh  2013     Tomato   37441.0    889385.0    bin_2\n",
       "686  Andhra Pradesh  2013   Turmeric   17865.0    152228.0    bin_2\n",
       "687  Andhra Pradesh  2013       Urad  264773.0    206704.0    bin_2\n",
       "688  Andhra Pradesh  2013      Wheat     696.0       498.0    bin_2\n",
       "\n",
       "[596 rows x 6 columns]"
      ]
     },
     "execution_count": 34,
     "metadata": {},
     "output_type": "execute_result"
    }
   ],
   "source": [
    "df[df.State==\"Andhra Pradesh\"]\n",
    "\n",
    "# analysing the agriculture starts of Andhra Pradesh"
   ]
  },
  {
   "cell_type": "code",
   "execution_count": 35,
   "id": "9fd22116",
   "metadata": {},
   "outputs": [],
   "source": [
    "df_ap=df[df.State==\"Andhra Pradesh\"]"
   ]
  },
  {
   "cell_type": "code",
   "execution_count": 36,
   "id": "4ca371b4",
   "metadata": {},
   "outputs": [],
   "source": [
    "df_ap[\"year_bin\"]=pd.cut(x=df_ap.Year,bins=[1999,2006,2013],labels=[\"bin_1\",\"bin_2\"])"
   ]
  },
  {
   "cell_type": "code",
   "execution_count": 37,
   "id": "9918b86b",
   "metadata": {},
   "outputs": [
    {
     "data": {
      "text/html": [
       "<div>\n",
       "<style scoped>\n",
       "    .dataframe tbody tr th:only-of-type {\n",
       "        vertical-align: middle;\n",
       "    }\n",
       "\n",
       "    .dataframe tbody tr th {\n",
       "        vertical-align: top;\n",
       "    }\n",
       "\n",
       "    .dataframe thead th {\n",
       "        text-align: right;\n",
       "    }\n",
       "</style>\n",
       "<table border=\"1\" class=\"dataframe\">\n",
       "  <thead>\n",
       "    <tr style=\"text-align: right;\">\n",
       "      <th></th>\n",
       "      <th>State</th>\n",
       "      <th>Year</th>\n",
       "      <th>Crop</th>\n",
       "      <th>Area</th>\n",
       "      <th>Production</th>\n",
       "      <th>year_bin</th>\n",
       "    </tr>\n",
       "  </thead>\n",
       "  <tbody>\n",
       "    <tr>\n",
       "      <th>93</th>\n",
       "      <td>Andhra Pradesh</td>\n",
       "      <td>2000</td>\n",
       "      <td>Arecanut</td>\n",
       "      <td>262.0</td>\n",
       "      <td>724.0</td>\n",
       "      <td>bin_1</td>\n",
       "    </tr>\n",
       "    <tr>\n",
       "      <th>94</th>\n",
       "      <td>Andhra Pradesh</td>\n",
       "      <td>2000</td>\n",
       "      <td>Arhar/Tur</td>\n",
       "      <td>254599.0</td>\n",
       "      <td>126443.0</td>\n",
       "      <td>bin_1</td>\n",
       "    </tr>\n",
       "    <tr>\n",
       "      <th>95</th>\n",
       "      <td>Andhra Pradesh</td>\n",
       "      <td>2000</td>\n",
       "      <td>Bajra</td>\n",
       "      <td>98323.0</td>\n",
       "      <td>121260.0</td>\n",
       "      <td>bin_1</td>\n",
       "    </tr>\n",
       "    <tr>\n",
       "      <th>96</th>\n",
       "      <td>Andhra Pradesh</td>\n",
       "      <td>2000</td>\n",
       "      <td>Banana</td>\n",
       "      <td>46908.0</td>\n",
       "      <td>780053.0</td>\n",
       "      <td>bin_1</td>\n",
       "    </tr>\n",
       "    <tr>\n",
       "      <th>97</th>\n",
       "      <td>Andhra Pradesh</td>\n",
       "      <td>2000</td>\n",
       "      <td>Cashewnut</td>\n",
       "      <td>135225.0</td>\n",
       "      <td>29443.0</td>\n",
       "      <td>bin_1</td>\n",
       "    </tr>\n",
       "  </tbody>\n",
       "</table>\n",
       "</div>"
      ],
      "text/plain": [
       "             State  Year       Crop      Area  Production year_bin\n",
       "93  Andhra Pradesh  2000   Arecanut     262.0       724.0    bin_1\n",
       "94  Andhra Pradesh  2000  Arhar/Tur  254599.0    126443.0    bin_1\n",
       "95  Andhra Pradesh  2000      Bajra   98323.0    121260.0    bin_1\n",
       "96  Andhra Pradesh  2000     Banana   46908.0    780053.0    bin_1\n",
       "97  Andhra Pradesh  2000  Cashewnut  135225.0     29443.0    bin_1"
      ]
     },
     "execution_count": 37,
     "metadata": {},
     "output_type": "execute_result"
    }
   ],
   "source": [
    "df_ap.head()"
   ]
  },
  {
   "cell_type": "code",
   "execution_count": 38,
   "id": "8ec4e16c",
   "metadata": {},
   "outputs": [
    {
     "data": {
      "text/plain": [
       "161105.3924050633"
      ]
     },
     "execution_count": 38,
     "metadata": {},
     "output_type": "execute_result"
    }
   ],
   "source": [
    "df_ap[df_ap[\"year_bin\"]==\"bin_1\"].Area.mean()"
   ]
  },
  {
   "cell_type": "code",
   "execution_count": 39,
   "id": "2dcc9ef6",
   "metadata": {},
   "outputs": [
    {
     "data": {
      "text/plain": [
       "181583.38571428572"
      ]
     },
     "execution_count": 39,
     "metadata": {},
     "output_type": "execute_result"
    }
   ],
   "source": [
    "df_ap[df_ap[\"year_bin\"]==\"bin_2\"].Area.mean()"
   ]
  },
  {
   "cell_type": "code",
   "execution_count": 40,
   "id": "ec953aa3",
   "metadata": {},
   "outputs": [
    {
     "data": {
      "text/plain": [
       "25641047.566455696"
      ]
     },
     "execution_count": 40,
     "metadata": {},
     "output_type": "execute_result"
    }
   ],
   "source": [
    "df_ap[df_ap[\"year_bin\"]==\"bin_1\"].Production.mean()"
   ]
  },
  {
   "cell_type": "code",
   "execution_count": 41,
   "id": "3d584420",
   "metadata": {},
   "outputs": [
    {
     "data": {
      "text/plain": [
       "25065604.096428573"
      ]
     },
     "execution_count": 41,
     "metadata": {},
     "output_type": "execute_result"
    }
   ],
   "source": [
    "df_ap[df_ap[\"year_bin\"]==\"bin_2\"].Production.mean()"
   ]
  },
  {
   "cell_type": "code",
   "execution_count": 42,
   "id": "1b99001a",
   "metadata": {},
   "outputs": [
    {
     "data": {
      "text/plain": [
       "Niger seed             7\n",
       "Moong(Green Gram)      7\n",
       "Onion                  7\n",
       "Other  Rabi pulses     7\n",
       "Other Kharif pulses    7\n",
       "                      ..\n",
       "Bottle Gourd           2\n",
       "Tomato                 2\n",
       "other fibres           1\n",
       "Peas  (vegetable)      1\n",
       "other misc. pulses     1\n",
       "Name: Crop, Length: 61, dtype: int64"
      ]
     },
     "execution_count": 42,
     "metadata": {},
     "output_type": "execute_result"
    }
   ],
   "source": [
    "df_ap[df_ap[\"year_bin\"]==\"bin_1\"].Crop.value_counts()"
   ]
  },
  {
   "cell_type": "code",
   "execution_count": 43,
   "id": "1df7d390",
   "metadata": {},
   "outputs": [
    {
     "data": {
      "text/plain": [
       "7"
      ]
     },
     "execution_count": 43,
     "metadata": {},
     "output_type": "execute_result"
    }
   ],
   "source": [
    "df_ap[df_ap[\"year_bin\"]==\"bin_1\"].Crop.value_counts()[\"Rice\"]"
   ]
  },
  {
   "cell_type": "code",
   "execution_count": 44,
   "id": "412be88f",
   "metadata": {},
   "outputs": [
    {
     "data": {
      "text/plain": [
       "Arhar/Tur              7\n",
       "Onion                  7\n",
       "Bajra                  7\n",
       "Urad                   7\n",
       "Tobacco                7\n",
       "Sunflower              7\n",
       "Sugarcane              7\n",
       "Sesamum                7\n",
       "Rice                   7\n",
       "Ragi                   7\n",
       "Other Kharif pulses    7\n",
       "Small millets          7\n",
       "Moong(Green Gram)      7\n",
       "Mesta                  7\n",
       "Maize                  7\n",
       "Jowar                  7\n",
       "Horse-gram             7\n",
       "Groundnut              7\n",
       "Gram                   7\n",
       "Dry chillies           7\n",
       "Cotton(lint)           7\n",
       "Castor seed            7\n",
       "Turmeric               6\n",
       "Soyabean               6\n",
       "Safflower              6\n",
       "Rapeseed &Mustard      6\n",
       "Potato                 6\n",
       "Niger seed             6\n",
       "Wheat                  6\n",
       "Dry ginger             6\n",
       "Coriander              6\n",
       "Cashewnut              6\n",
       "Other  Rabi pulses     6\n",
       "Arecanut               6\n",
       "Tapioca                6\n",
       "Sweet potato           6\n",
       "Coconut                5\n",
       "Linseed                5\n",
       "Banana                 5\n",
       "Cowpea(Lobia)          3\n",
       "Garlic                 2\n",
       "other oilseeds         2\n",
       "Brinjal                2\n",
       "Cabbage                2\n",
       "Grapes                 2\n",
       "Lemon                  2\n",
       "Mango                  2\n",
       "Papaya                 2\n",
       "Pome Granet            2\n",
       "Sapota                 2\n",
       "Tomato                 2\n",
       "Ginger                 1\n",
       "Sannhamp               1\n",
       "Name: Crop, dtype: int64"
      ]
     },
     "execution_count": 44,
     "metadata": {},
     "output_type": "execute_result"
    }
   ],
   "source": [
    "df_ap[df_ap[\"year_bin\"]==\"bin_2\"].Crop.value_counts()"
   ]
  },
  {
   "cell_type": "markdown",
   "id": "b2d37925",
   "metadata": {},
   "source": [
    "# VIsualisations"
   ]
  },
  {
   "cell_type": "code",
   "execution_count": 45,
   "id": "17aed500",
   "metadata": {},
   "outputs": [
    {
     "data": {
      "image/png": "[encoded data removed]",
      "text/plain": [
       "<Figure size 420.625x360 with 1 Axes>"
      ]
     },
     "metadata": {},
     "output_type": "display_data"
    }
   ],
   "source": [
    "with sns.axes_style(style='ticks'):\n",
    "    g = sns.factorplot(\"State\", \"Area\", \"year_bin\", data=df_ap, kind=\"box\")"
   ]
  },
  {
   "cell_type": "code",
   "execution_count": 46,
   "id": "9eb2663b",
   "metadata": {},
   "outputs": [
    {
     "data": {
      "image/png": "[encoded data removed]",
      "text/plain": [
       "<Figure size 432x432 with 3 Axes>"
      ]
     },
     "metadata": {},
     "output_type": "display_data"
    }
   ],
   "source": [
    "with sns.axes_style('darkgrid'):\n",
    "    sns.jointplot(\"Year\", \"Area\", data=df_ap)"
   ]
  },
  {
   "cell_type": "code",
   "execution_count": 47,
   "id": "79f421bd",
   "metadata": {},
   "outputs": [
    {
     "data": {
      "image/png": "[encoded data removed]",
      "text/plain": [
       "<Figure size 432x432 with 3 Axes>"
      ]
     },
     "metadata": {},
     "output_type": "display_data"
    }
   ],
   "source": [
    "with sns.axes_style('dark'):\n",
    "    sns.jointplot(\"Year\", \"Production\", data=df_ap)"
   ]
  },
  {
   "cell_type": "code",
   "execution_count": 48,
   "id": "23d9f2ec",
   "metadata": {},
   "outputs": [
    {
     "data": {
      "image/png": "[encoded data removed]",
      "text/plain": [
       "<Figure size 432x288 with 1 Axes>"
      ]
     },
     "metadata": {
      "needs_background": "light"
     },
     "output_type": "display_data"
    }
   ],
   "source": [
    "sns.violinplot(\"year_bin\", \"Area\", data=df_ap,\n",
    "               palette=[\"lightblue\", \"lightpink\"]);"
   ]
  },
  {
   "cell_type": "code",
   "execution_count": 49,
   "id": "ce0d81d4",
   "metadata": {},
   "outputs": [
    {
     "data": {
      "image/png": "[encoded data removed]",
      "text/plain": [
       "<Figure size 432x288 with 1 Axes>"
      ]
     },
     "metadata": {
      "needs_background": "light"
     },
     "output_type": "display_data"
    }
   ],
   "source": [
    "sns.violinplot(\"year_bin\", \"Production\", data=df_ap,\n",
    "               palette=[\"lightblue\", \"lightpink\"]);"
   ]
  },
  {
   "cell_type": "markdown",
   "id": "069d18a3",
   "metadata": {},
   "source": [
    "# Encoding"
   ]
  },
  {
   "cell_type": "code",
   "execution_count": 50,
   "id": "ca3c30f4",
   "metadata": {},
   "outputs": [],
   "source": [
    "df_ap_encoded=pd.get_dummies(df_ap.Crop)"
   ]
  },
  {
   "cell_type": "code",
   "execution_count": 51,
   "id": "6411ad21",
   "metadata": {},
   "outputs": [
    {
     "data": {
      "text/html": [
       "<div>\n",
       "<style scoped>\n",
       "    .dataframe tbody tr th:only-of-type {\n",
       "        vertical-align: middle;\n",
       "    }\n",
       "\n",
       "    .dataframe tbody tr th {\n",
       "        vertical-align: top;\n",
       "    }\n",
       "\n",
       "    .dataframe thead th {\n",
       "        text-align: right;\n",
       "    }\n",
       "</style>\n",
       "<table border=\"1\" class=\"dataframe\">\n",
       "  <thead>\n",
       "    <tr style=\"text-align: right;\">\n",
       "      <th></th>\n",
       "      <th>Arecanut</th>\n",
       "      <th>Arhar/Tur</th>\n",
       "      <th>Bajra</th>\n",
       "      <th>Banana</th>\n",
       "      <th>Beans &amp; Mutter(Vegetable)</th>\n",
       "      <th>Bhindi</th>\n",
       "      <th>Bottle Gourd</th>\n",
       "      <th>Brinjal</th>\n",
       "      <th>Cabbage</th>\n",
       "      <th>Cashewnut</th>\n",
       "      <th>...</th>\n",
       "      <th>Tapioca</th>\n",
       "      <th>Tobacco</th>\n",
       "      <th>Tomato</th>\n",
       "      <th>Turmeric</th>\n",
       "      <th>Urad</th>\n",
       "      <th>Varagu</th>\n",
       "      <th>Wheat</th>\n",
       "      <th>other fibres</th>\n",
       "      <th>other misc. pulses</th>\n",
       "      <th>other oilseeds</th>\n",
       "    </tr>\n",
       "  </thead>\n",
       "  <tbody>\n",
       "    <tr>\n",
       "      <th>93</th>\n",
       "      <td>1</td>\n",
       "      <td>0</td>\n",
       "      <td>0</td>\n",
       "      <td>0</td>\n",
       "      <td>0</td>\n",
       "      <td>0</td>\n",
       "      <td>0</td>\n",
       "      <td>0</td>\n",
       "      <td>0</td>\n",
       "      <td>0</td>\n",
       "      <td>...</td>\n",
       "      <td>0</td>\n",
       "      <td>0</td>\n",
       "      <td>0</td>\n",
       "      <td>0</td>\n",
       "      <td>0</td>\n",
       "      <td>0</td>\n",
       "      <td>0</td>\n",
       "      <td>0</td>\n",
       "      <td>0</td>\n",
       "      <td>0</td>\n",
       "    </tr>\n",
       "    <tr>\n",
       "      <th>94</th>\n",
       "      <td>0</td>\n",
       "      <td>1</td>\n",
       "      <td>0</td>\n",
       "      <td>0</td>\n",
       "      <td>0</td>\n",
       "      <td>0</td>\n",
       "      <td>0</td>\n",
       "      <td>0</td>\n",
       "      <td>0</td>\n",
       "      <td>0</td>\n",
       "      <td>...</td>\n",
       "      <td>0</td>\n",
       "      <td>0</td>\n",
       "      <td>0</td>\n",
       "      <td>0</td>\n",
       "      <td>0</td>\n",
       "      <td>0</td>\n",
       "      <td>0</td>\n",
       "      <td>0</td>\n",
       "      <td>0</td>\n",
       "      <td>0</td>\n",
       "    </tr>\n",
       "    <tr>\n",
       "      <th>95</th>\n",
       "      <td>0</td>\n",
       "      <td>0</td>\n",
       "      <td>1</td>\n",
       "      <td>0</td>\n",
       "      <td>0</td>\n",
       "      <td>0</td>\n",
       "      <td>0</td>\n",
       "      <td>0</td>\n",
       "      <td>0</td>\n",
       "      <td>0</td>\n",
       "      <td>...</td>\n",
       "      <td>0</td>\n",
       "      <td>0</td>\n",
       "      <td>0</td>\n",
       "      <td>0</td>\n",
       "      <td>0</td>\n",
       "      <td>0</td>\n",
       "      <td>0</td>\n",
       "      <td>0</td>\n",
       "      <td>0</td>\n",
       "      <td>0</td>\n",
       "    </tr>\n",
       "    <tr>\n",
       "      <th>96</th>\n",
       "      <td>0</td>\n",
       "      <td>0</td>\n",
       "      <td>0</td>\n",
       "      <td>1</td>\n",
       "      <td>0</td>\n",
       "      <td>0</td>\n",
       "      <td>0</td>\n",
       "      <td>0</td>\n",
       "      <td>0</td>\n",
       "      <td>0</td>\n",
       "      <td>...</td>\n",
       "      <td>0</td>\n",
       "      <td>0</td>\n",
       "      <td>0</td>\n",
       "      <td>0</td>\n",
       "      <td>0</td>\n",
       "      <td>0</td>\n",
       "      <td>0</td>\n",
       "      <td>0</td>\n",
       "      <td>0</td>\n",
       "      <td>0</td>\n",
       "    </tr>\n",
       "    <tr>\n",
       "      <th>97</th>\n",
       "      <td>0</td>\n",
       "      <td>0</td>\n",
       "      <td>0</td>\n",
       "      <td>0</td>\n",
       "      <td>0</td>\n",
       "      <td>0</td>\n",
       "      <td>0</td>\n",
       "      <td>0</td>\n",
       "      <td>0</td>\n",
       "      <td>1</td>\n",
       "      <td>...</td>\n",
       "      <td>0</td>\n",
       "      <td>0</td>\n",
       "      <td>0</td>\n",
       "      <td>0</td>\n",
       "      <td>0</td>\n",
       "      <td>0</td>\n",
       "      <td>0</td>\n",
       "      <td>0</td>\n",
       "      <td>0</td>\n",
       "      <td>0</td>\n",
       "    </tr>\n",
       "  </tbody>\n",
       "</table>\n",
       "<p>5 rows × 68 columns</p>\n",
       "</div>"
      ],
      "text/plain": [
       "    Arecanut  Arhar/Tur  Bajra  Banana  Beans & Mutter(Vegetable)  Bhindi  \\\n",
       "93         1          0      0       0                          0       0   \n",
       "94         0          1      0       0                          0       0   \n",
       "95         0          0      1       0                          0       0   \n",
       "96         0          0      0       1                          0       0   \n",
       "97         0          0      0       0                          0       0   \n",
       "\n",
       "    Bottle Gourd  Brinjal  Cabbage  Cashewnut  ...  Tapioca  Tobacco  Tomato  \\\n",
       "93             0        0        0          0  ...        0        0       0   \n",
       "94             0        0        0          0  ...        0        0       0   \n",
       "95             0        0        0          0  ...        0        0       0   \n",
       "96             0        0        0          0  ...        0        0       0   \n",
       "97             0        0        0          1  ...        0        0       0   \n",
       "\n",
       "    Turmeric  Urad  Varagu  Wheat  other fibres  other misc. pulses  \\\n",
       "93         0     0       0      0             0                   0   \n",
       "94         0     0       0      0             0                   0   \n",
       "95         0     0       0      0             0                   0   \n",
       "96         0     0       0      0             0                   0   \n",
       "97         0     0       0      0             0                   0   \n",
       "\n",
       "    other oilseeds  \n",
       "93               0  \n",
       "94               0  \n",
       "95               0  \n",
       "96               0  \n",
       "97               0  \n",
       "\n",
       "[5 rows x 68 columns]"
      ]
     },
     "execution_count": 51,
     "metadata": {},
     "output_type": "execute_result"
    }
   ],
   "source": [
    "df_ap_encoded.head()"
   ]
  },
  {
   "cell_type": "code",
   "execution_count": 52,
   "id": "48bd12d1",
   "metadata": {},
   "outputs": [],
   "source": [
    "df_ap_encoded_2=pd.get_dummies(df_ap.year_bin)"
   ]
  },
  {
   "cell_type": "code",
   "execution_count": 53,
   "id": "e341a562",
   "metadata": {},
   "outputs": [
    {
     "data": {
      "text/html": [
       "<div>\n",
       "<style scoped>\n",
       "    .dataframe tbody tr th:only-of-type {\n",
       "        vertical-align: middle;\n",
       "    }\n",
       "\n",
       "    .dataframe tbody tr th {\n",
       "        vertical-align: top;\n",
       "    }\n",
       "\n",
       "    .dataframe thead th {\n",
       "        text-align: right;\n",
       "    }\n",
       "</style>\n",
       "<table border=\"1\" class=\"dataframe\">\n",
       "  <thead>\n",
       "    <tr style=\"text-align: right;\">\n",
       "      <th></th>\n",
       "      <th>bin_1</th>\n",
       "      <th>bin_2</th>\n",
       "    </tr>\n",
       "  </thead>\n",
       "  <tbody>\n",
       "    <tr>\n",
       "      <th>93</th>\n",
       "      <td>1</td>\n",
       "      <td>0</td>\n",
       "    </tr>\n",
       "    <tr>\n",
       "      <th>94</th>\n",
       "      <td>1</td>\n",
       "      <td>0</td>\n",
       "    </tr>\n",
       "    <tr>\n",
       "      <th>95</th>\n",
       "      <td>1</td>\n",
       "      <td>0</td>\n",
       "    </tr>\n",
       "    <tr>\n",
       "      <th>96</th>\n",
       "      <td>1</td>\n",
       "      <td>0</td>\n",
       "    </tr>\n",
       "    <tr>\n",
       "      <th>97</th>\n",
       "      <td>1</td>\n",
       "      <td>0</td>\n",
       "    </tr>\n",
       "  </tbody>\n",
       "</table>\n",
       "</div>"
      ],
      "text/plain": [
       "    bin_1  bin_2\n",
       "93      1      0\n",
       "94      1      0\n",
       "95      1      0\n",
       "96      1      0\n",
       "97      1      0"
      ]
     },
     "execution_count": 53,
     "metadata": {},
     "output_type": "execute_result"
    }
   ],
   "source": [
    "df_ap_encoded_2.head()"
   ]
  },
  {
   "cell_type": "markdown",
   "id": "0fa56b88",
   "metadata": {},
   "source": [
    "# Discritisation"
   ]
  },
  {
   "cell_type": "code",
   "execution_count": 54,
   "id": "f53fba60",
   "metadata": {},
   "outputs": [],
   "source": [
    "from sklearn.preprocessing import KBinsDiscretizer\n",
    "est = KBinsDiscretizer(n_bins=5, encode='ordinal', strategy='uniform')\n",
    "df_ap[\"Area_range\"] = est.fit_transform(df_ap[['Area']])"
   ]
  },
  {
   "cell_type": "code",
   "execution_count": 55,
   "id": "36157911",
   "metadata": {},
   "outputs": [
    {
     "data": {
      "text/html": [
       "<div>\n",
       "<style scoped>\n",
       "    .dataframe tbody tr th:only-of-type {\n",
       "        vertical-align: middle;\n",
       "    }\n",
       "\n",
       "    .dataframe tbody tr th {\n",
       "        vertical-align: top;\n",
       "    }\n",
       "\n",
       "    .dataframe thead th {\n",
       "        text-align: right;\n",
       "    }\n",
       "</style>\n",
       "<table border=\"1\" class=\"dataframe\">\n",
       "  <thead>\n",
       "    <tr style=\"text-align: right;\">\n",
       "      <th></th>\n",
       "      <th>State</th>\n",
       "      <th>Year</th>\n",
       "      <th>Crop</th>\n",
       "      <th>Area</th>\n",
       "      <th>Production</th>\n",
       "      <th>year_bin</th>\n",
       "      <th>Area_range</th>\n",
       "    </tr>\n",
       "  </thead>\n",
       "  <tbody>\n",
       "    <tr>\n",
       "      <th>105</th>\n",
       "      <td>Andhra Pradesh</td>\n",
       "      <td>2000</td>\n",
       "      <td>Groundnut</td>\n",
       "      <td>1611003.0</td>\n",
       "      <td>1846501.0</td>\n",
       "      <td>bin_1</td>\n",
       "      <td>2.0</td>\n",
       "    </tr>\n",
       "    <tr>\n",
       "      <th>121</th>\n",
       "      <td>Andhra Pradesh</td>\n",
       "      <td>2000</td>\n",
       "      <td>Rice</td>\n",
       "      <td>2694741.0</td>\n",
       "      <td>8040667.0</td>\n",
       "      <td>bin_1</td>\n",
       "      <td>4.0</td>\n",
       "    </tr>\n",
       "    <tr>\n",
       "      <th>147</th>\n",
       "      <td>Andhra Pradesh</td>\n",
       "      <td>2001</td>\n",
       "      <td>Groundnut</td>\n",
       "      <td>1454023.0</td>\n",
       "      <td>1000135.0</td>\n",
       "      <td>bin_1</td>\n",
       "      <td>2.0</td>\n",
       "    </tr>\n",
       "    <tr>\n",
       "      <th>162</th>\n",
       "      <td>Andhra Pradesh</td>\n",
       "      <td>2001</td>\n",
       "      <td>Rice</td>\n",
       "      <td>2515353.0</td>\n",
       "      <td>7823692.0</td>\n",
       "      <td>bin_1</td>\n",
       "      <td>4.0</td>\n",
       "    </tr>\n",
       "    <tr>\n",
       "      <th>196</th>\n",
       "      <td>Andhra Pradesh</td>\n",
       "      <td>2002</td>\n",
       "      <td>Groundnut</td>\n",
       "      <td>1275160.0</td>\n",
       "      <td>660124.0</td>\n",
       "      <td>bin_1</td>\n",
       "      <td>2.0</td>\n",
       "    </tr>\n",
       "  </tbody>\n",
       "</table>\n",
       "</div>"
      ],
      "text/plain": [
       "              State  Year       Crop       Area  Production year_bin  \\\n",
       "105  Andhra Pradesh  2000  Groundnut  1611003.0   1846501.0    bin_1   \n",
       "121  Andhra Pradesh  2000       Rice  2694741.0   8040667.0    bin_1   \n",
       "147  Andhra Pradesh  2001  Groundnut  1454023.0   1000135.0    bin_1   \n",
       "162  Andhra Pradesh  2001       Rice  2515353.0   7823692.0    bin_1   \n",
       "196  Andhra Pradesh  2002  Groundnut  1275160.0    660124.0    bin_1   \n",
       "\n",
       "     Area_range  \n",
       "105         2.0  \n",
       "121         4.0  \n",
       "147         2.0  \n",
       "162         4.0  \n",
       "196         2.0  "
      ]
     },
     "execution_count": 55,
     "metadata": {},
     "output_type": "execute_result"
    }
   ],
   "source": [
    "df_ap[df_ap.Area_range>0].head()"
   ]
  },
  {
   "cell_type": "markdown",
   "id": "921bd3a6",
   "metadata": {},
   "source": [
    "# Visualisations"
   ]
  },
  {
   "cell_type": "code",
   "execution_count": 56,
   "id": "404310b4",
   "metadata": {},
   "outputs": [],
   "source": [
    "from sklearn.preprocessing import KBinsDiscretizer\n",
    "est = KBinsDiscretizer(n_bins=5, encode='ordinal', strategy='uniform')\n",
    "df[\"Area_range\"] = est.fit_transform(df[['Area']])"
   ]
  },
  {
   "cell_type": "code",
   "execution_count": 57,
   "id": "11af2a58",
   "metadata": {},
   "outputs": [
    {
     "data": {
      "text/plain": [
       "<seaborn.axisgrid.FacetGrid at 0x26e96d22eb0>"
      ]
     },
     "execution_count": 57,
     "metadata": {},
     "output_type": "execute_result"
    },
    {
     "data": {
      "image/png": "[encoded data removed]",
      "text/plain": [
       "<Figure size 425.125x360 with 1 Axes>"
      ]
     },
     "metadata": {
      "needs_background": "light"
     },
     "output_type": "display_data"
    }
   ],
   "source": [
    "sns.catplot(y=\"Production\", x=\"year_bin\",hue=\"Area_range\", kind=\"bar\", data=df)"
   ]
  },
  {
   "cell_type": "code",
   "execution_count": 58,
   "id": "2881d970",
   "metadata": {},
   "outputs": [],
   "source": [
    "a=pd.DataFrame(df_ap.groupby(\"year_bin\").Production.mean())"
   ]
  },
  {
   "cell_type": "code",
   "execution_count": 59,
   "id": "377e7b81",
   "metadata": {},
   "outputs": [
    {
     "data": {
      "text/plain": [
       "<AxesSubplot:xlabel='year_bin', ylabel='Production'>"
      ]
     },
     "execution_count": 59,
     "metadata": {},
     "output_type": "execute_result"
    },
    {
     "data": {
      "image/png": "[encoded data removed]",
      "text/plain": [
       "<Figure size 432x288 with 1 Axes>"
      ]
     },
     "metadata": {
      "needs_background": "light"
     },
     "output_type": "display_data"
    }
   ],
   "source": [
    "sns.barplot(x=\"year_bin\",y=\"Production\",data=df_ap)"
   ]
  },
  {
   "cell_type": "code",
   "execution_count": 60,
   "id": "a156c39d",
   "metadata": {},
   "outputs": [
    {
     "data": {
      "text/plain": [
       "Index(['Production'], dtype='object')"
      ]
     },
     "execution_count": 60,
     "metadata": {},
     "output_type": "execute_result"
    }
   ],
   "source": [
    "a.columns"
   ]
  },
  {
   "cell_type": "code",
   "execution_count": 61,
   "id": "b6807423",
   "metadata": {},
   "outputs": [
    {
     "data": {
      "text/html": [
       "<div>\n",
       "<style scoped>\n",
       "    .dataframe tbody tr th:only-of-type {\n",
       "        vertical-align: middle;\n",
       "    }\n",
       "\n",
       "    .dataframe tbody tr th {\n",
       "        vertical-align: top;\n",
       "    }\n",
       "\n",
       "    .dataframe thead th {\n",
       "        text-align: right;\n",
       "    }\n",
       "</style>\n",
       "<table border=\"1\" class=\"dataframe\">\n",
       "  <thead>\n",
       "    <tr style=\"text-align: right;\">\n",
       "      <th></th>\n",
       "      <th>Production</th>\n",
       "    </tr>\n",
       "    <tr>\n",
       "      <th>year_bin</th>\n",
       "      <th></th>\n",
       "    </tr>\n",
       "  </thead>\n",
       "  <tbody>\n",
       "    <tr>\n",
       "      <th>bin_1</th>\n",
       "      <td>2.564105e+07</td>\n",
       "    </tr>\n",
       "    <tr>\n",
       "      <th>bin_2</th>\n",
       "      <td>2.506560e+07</td>\n",
       "    </tr>\n",
       "  </tbody>\n",
       "</table>\n",
       "</div>"
      ],
      "text/plain": [
       "            Production\n",
       "year_bin              \n",
       "bin_1     2.564105e+07\n",
       "bin_2     2.506560e+07"
      ]
     },
     "execution_count": 61,
     "metadata": {},
     "output_type": "execute_result"
    }
   ],
   "source": [
    "a"
   ]
  },
  {
   "cell_type": "code",
   "execution_count": 64,
   "id": "42993cc8",
   "metadata": {},
   "outputs": [
    {
     "data": {
      "text/plain": [
       "<AxesSubplot:xlabel='Production', ylabel='State'>"
      ]
     },
     "execution_count": 64,
     "metadata": {},
     "output_type": "execute_result"
    },
    {
     "data": {
      "image/png": "[encoded data removed]",
      "text/plain": [
       "<Figure size 1296x1296 with 1 Axes>"
      ]
     },
     "metadata": {
      "needs_background": "light"
     },
     "output_type": "display_data"
    }
   ],
   "source": [
    "plt.figure(figsize= (18,18))\n",
    "sns.barplot(x=df['Production'],y= df[\"State\"], orient='h')"
   ]
  },
  {
   "cell_type": "code",
   "execution_count": 69,
   "id": "bd20a77a",
   "metadata": {},
   "outputs": [
    {
     "data": {
      "text/plain": [
       "<AxesSubplot:xlabel='Area', ylabel='State'>"
      ]
     },
     "execution_count": 69,
     "metadata": {},
     "output_type": "execute_result"
    },
    {
     "data": {
      "image/png": "[encoded data removed]",
      "text/plain": [
       "<Figure size 1296x1296 with 1 Axes>"
      ]
     },
     "metadata": {
      "needs_background": "light"
     },
     "output_type": "display_data"
    }
   ],
   "source": [
    "plt.figure(figsize= (18,18))\n",
    "sns.barplot(x=df[df.year_bin==\"bin_1\"]['Area'],y= df[df.year_bin==\"bin_1\"][\"State\"], orient='h')"
   ]
  },
  {
   "cell_type": "code",
   "execution_count": 68,
   "id": "268fb581",
   "metadata": {},
   "outputs": [
    {
     "data": {
      "text/plain": [
       "<AxesSubplot:xlabel='Production', ylabel='State'>"
      ]
     },
     "execution_count": 68,
     "metadata": {},
     "output_type": "execute_result"
    },
    {
     "data": {
      "image/png": "[encoded data removed]",
      "text/plain": [
       "<Figure size 1296x1296 with 1 Axes>"
      ]
     },
     "metadata": {
      "needs_background": "light"
     },
     "output_type": "display_data"
    }
   ],
   "source": [
    "plt.figure(figsize= (18,18))\n",
    "sns.barplot(x=df[df.year_bin==\"bin_2\"]['Production'],y= df[df.year_bin==\"bin_2\"][\"State\"], orient='h')"
   ]
  },
  {
   "cell_type": "code",
   "execution_count": 65,
   "id": "89c0f332",
   "metadata": {},
   "outputs": [
    {
     "data": {
      "text/plain": [
       "<AxesSubplot:xlabel='Area', ylabel='State'>"
      ]
     },
     "execution_count": 65,
     "metadata": {},
     "output_type": "execute_result"
    },
    {
     "data": {
      "image/png": "[encoded data removed]",
      "text/plain": [
       "<Figure size 1296x1296 with 1 Axes>"
      ]
     },
     "metadata": {
      "needs_background": "light"
     },
     "output_type": "display_data"
    }
   ],
   "source": [
    "plt.figure(figsize= (18,18))\n",
    "sns.barplot(x=df['Area'],y= df[\"State\"], orient='h')"
   ]
  }
 ],
 "metadata": {
  "kernelspec": {
   "display_name": "Python 3 (ipykernel)",
   "language": "python",
   "name": "python3"
  },
  "language_info": {
   "codemirror_mode": {
    "name": "ipython",
    "version": 3
   },
   "file_extension": ".py",
   "mimetype": "text/x-python",
   "name": "python",
   "nbconvert_exporter": "python",
   "pygments_lexer": "ipython3",
   "version": "3.8.8"
  }
 },
 "nbformat": 4,
 "nbformat_minor": 5
}
